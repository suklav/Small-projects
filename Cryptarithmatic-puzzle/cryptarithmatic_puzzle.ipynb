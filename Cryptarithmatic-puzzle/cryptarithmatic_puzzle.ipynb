{
  "nbformat": 4,
  "nbformat_minor": 0,
  "metadata": {
    "colab": {
      "name": "cryptarithmatic_puzzle.ipynb",
      "provenance": []
    },
    "kernelspec": {
      "name": "python3",
      "display_name": "Python 3"
    },
    "language_info": {
      "name": "python"
    }
  },
  "cells": [
    {
      "cell_type": "code",
      "execution_count": 3,
      "metadata": {
        "colab": {
          "base_uri": "https://localhost:8080/"
        },
        "id": "c8Y7Gcxd6hTp",
        "outputId": "d644397f-5630-4dd3-bd9d-6a8f505fbb0a"
      },
      "outputs": [
        {
          "output_type": "stream",
          "name": "stdout",
          "text": [
            "2817  +  368  =  3185\n",
            "2819  +  368  =  3187\n",
            "3712  +  467  =  4179\n",
            "3719  +  457  =  4176\n",
            "3821  +  468  =  4289\n",
            "3829  +  458  =  4287\n",
            "5731  +  647  =  6378\n",
            "5732  +  647  =  6379\n",
            "5849  +  638  =  6487\n",
            "6415  +  734  =  7149\n",
            "6419  +  724  =  7143\n",
            "6524  +  735  =  7259\n",
            "6851  +  738  =  7589\n",
            "6853  +  728  =  7581\n",
            "7316  +  823  =  8139\n",
            "7429  +  814  =  8243\n",
            "7531  +  825  =  8356\n",
            "7534  +  825  =  8359\n",
            "7539  +  815  =  8354\n",
            "7643  +  826  =  8469\n",
            "7649  +  816  =  8465\n",
            "8324  +  913  =  9237\n",
            "8432  +  914  =  9346\n",
            "8542  +  915  =  9457\n",
            "9567  +  1085  =  10652\n"
          ]
        }
      ],
      "source": [
        "\n",
        "for s in range(10):\n",
        " for e in range(10):\n",
        "  for n in range(10):\n",
        "   for d in range(10):\n",
        "    for m in range(10):\n",
        "     for o in range(10):\n",
        "      for r in range(10):\n",
        "       for y in range(10):\n",
        "        send = 1000*s + 100*e + 10*n + d\n",
        "        more = 1000*m + 100*o + 10*r + e\n",
        "        money = 10000*m + 1000*o + 100*n + 10*e + y\n",
        "        \n",
        "        if send + more == money :\n",
        "         if s!=e and s!=n and s!=d and s!=m and s!=o and s!=r and s!=y and e!=n and e!=d and e!=m and e!=o and e!=r and e!=y and n!=d and n!=m and n!=o and n!=r and n!=y and d!=m and d!=o and d!=r and d!=y and m!=o and m!=r and m!=y and o!=r and o!=y and r!=y :\n",
        "          print(send,\" + \", more,\" = \",money)"
      ]
    }
  ]
}